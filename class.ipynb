{
 "cells": [
  {
   "cell_type": "code",
   "execution_count": 5,
   "metadata": {},
   "outputs": [],
   "source": [
    "import warnings\n",
    "warnings.filterwarnings('ignore')\n",
    "import time\n",
    "import akshare as ak\n",
    "import numpy as np\n",
    "import pandas as pd\n",
    "import quantstats as qs\n",
    "import matplotlib.pyplot as plt\n",
    "import matplotlib.ticker as ticker\n",
    "import seaborn as sns"
   ]
  },
  {
   "cell_type": "code",
   "execution_count": 25,
   "metadata": {},
   "outputs": [],
   "source": [
    "class EtfPool():\n",
    "\n",
    "    data = pd.DataFrame([])\n",
    "    def __init__(self, ticker_list) -> None:\n",
    "        super().__init__()\n",
    "        self.ticker_list = ticker_list\n",
    "        \n",
    "\n",
    "    def get_data(self, start_date, end_date) -> None:\n",
    "        \"\"\"\n",
    "        利用akshare获取ETF池的各支ETF的历史数据，重命名列名，整合各支ETF的数据到data属性\n",
    "        \"\"\"\n",
    "        for symbol in self.ticker_list:\n",
    "            self.data[symbol] = ak.fund_etf_hist_em(symbol=symbol, period=\"daily\", adjust='hfq')[['日期', '收盘']] \\\n",
    "                .rename(columns={'日期': 'date', '收盘': symbol}).set_index('date')\n",
    "        self.data = pd.concat(list(self.data.values()), axis=1).dropna()\n",
    "        self.data.index = pd.to_datetime(self.data.index)\n",
    "\n",
    "    def get_day_return(self):\n",
    "        for symbol in self.ticker_list:\n",
    "            column_name = f\"{symbol}\"\n",
    "            data[f\"{column_name}_day_return\"] = data[column_name].rolling(2).apply(lambda x: x[-1]/x[0]-1)\n",
    "\n",
    "    def get_return(self):\n",
    "        for symbol in self.ticker_list:\n",
    "            column_name = f\"{symbol}\"\n",
    "            data[f\"{column_name}_return\"] = data[column_name].rolling(window=window).apply(lambda x: x[-1]/x[0]-1)\n",
    "    \n",
    "    def get_ma(self):\n",
    "        for symbol in self.ticker_list:\n",
    "            column_name = f\"{symbol}\"\n",
    "            data[f\"{column_name}_ma\"] = data[column_name].rolling(window=window).mean()\n",
    "\n",
    "\n",
    "\n",
    "         \n",
    "\n"
   ]
  },
  {
   "cell_type": "code",
   "execution_count": 27,
   "metadata": {},
   "outputs": [
    {
     "name": "stdout",
     "output_type": "stream",
     "text": [
      "[518880, 513100, 159915, 510880]\n",
      "None\n"
     ]
    }
   ],
   "source": [
    "Pool_1 = EtfPool([518880,513100,159915,510880])\n",
    "print(Pool_1.ticker_list)\n",
    "print(Pool_1.data)"
   ]
  }
 ],
 "metadata": {
  "kernelspec": {
   "display_name": "py310",
   "language": "python",
   "name": "python3"
  },
  "language_info": {
   "codemirror_mode": {
    "name": "ipython",
    "version": 3
   },
   "file_extension": ".py",
   "mimetype": "text/x-python",
   "name": "python",
   "nbconvert_exporter": "python",
   "pygments_lexer": "ipython3",
   "version": "3.10.14"
  }
 },
 "nbformat": 4,
 "nbformat_minor": 2
}
